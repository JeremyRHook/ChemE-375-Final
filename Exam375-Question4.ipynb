{
 "cells": [
  {
   "cell_type": "code",
   "execution_count": 35,
   "metadata": {
    "scrolled": true
   },
   "outputs": [
    {
     "name": "stdout",
     "output_type": "stream",
     "text": [
      "Methanol, Ethanol\n"
     ]
    },
    {
     "data": {
      "text/plain": [
       "<matplotlib.axes._subplots.AxesSubplot at 0x1ca1cb3d9c8>"
      ]
     },
     "execution_count": 35,
     "metadata": {},
     "output_type": "execute_result"
    },
    {
     "data": {
      "image/png": "[encoded data removed]",
      "text/plain": [
       "<Figure size 432x288 with 1 Axes>"
      ]
     },
     "metadata": {
      "needs_background": "light"
     },
     "output_type": "display_data"
    }
   ],
   "source": [
    "import numpy as np\n",
    "import matplotlib.pyplot as plt\n",
    "print('Methanol, Ethanol')\n",
    "class VLE():\n",
    "    def __init__(self, T, xi, yi, P, Psat1, Psat2):\n",
    "        self.T = T\n",
    "        self.P = P\n",
    "        self.xi = xi\n",
    "        self.yi = yi\n",
    "        self.Psat1 = Psat1\n",
    "        self.Psat2 = Psat2\n",
    "    \n",
    "    def plot_vle(self):\n",
    "        fig, ax = plt.subplots()\n",
    "        ax.scatter(self.xi, self.T, color='k')\n",
    "        ax.scatter(self.yi, self.T, color='k')\n",
    "\n",
    "    def Psat_calc (self, T, comp):\n",
    "        if comp == 1:\n",
    "            a1 = self.Psat1[0]\n",
    "            b1 = self.Psat1[1]\n",
    "            c1 = self.Psat1[2]\n",
    "            psat1 = 10**(a1-(b1/(T+c1)))\n",
    "            return psat1\n",
    "        if comp == 2:\n",
    "            a2 = self.Psat2[0]\n",
    "            b2 = self.Psat2[1]\n",
    "            c2 = self.Psat2[2]\n",
    "            psat2 = 10**(a2-(b2/(T+c2)))\n",
    "            return psat2\n",
    "   \n",
    "\n",
    "    def activities (self):\n",
    "        a1 = self.Psat1[0]\n",
    "        b1 = self.Psat1[1]\n",
    "        c1 = self.Psat1[2]\n",
    "        psat1 = 100*10**(a1- (b1 / (self.T + c1)))\n",
    "        a2 = self.Psat2[0]\n",
    "        b2 = self.Psat2[1]\n",
    "        c2 = self.Psat2[2]\n",
    "        psat2 = 100*10**(a2 - (b2 / (self.T + c2)))\n",
    "        activitycoeff1 = self.yi*self.P / (self.xi*psat1)\n",
    "        activitycoeff2 = (1-self.yi)*self.P/((1-self.xi)*psat2)\n",
    "        return activitycoeff1, activitycoeff2\n",
    "  \n",
    "    def actplot (self):\n",
    "        a1 = self.Psat1[0]\n",
    "        b1 = self.Psat1[1]\n",
    "        c1 = self.Psat1[2]\n",
    "        activitycoeff1 = self.yi*self.P / (self.xi*Psat1)\n",
    "        ax.scatter(self.xi, activitycoeff1)\n",
    "plt.subplot()"
   ]
  },
  {
   "cell_type": "code",
   "execution_count": 32,
   "metadata": {},
   "outputs": [
    {
     "name": "stdout",
     "output_type": "stream",
     "text": [
      "Pressure (bars) = 1.5988298686440456\n"
     ]
    }
   ],
   "source": [
    "P = 101.33\n",
    "T = 349.75\n",
    "y1 = 0.183\n",
    "x1 = 0.134\n",
    "Psat1 = [5.20409, 1581.341, -33.50]\n",
    "Psat2 = [5.24677, 1598.673, -46.424]\n",
    "sat = VLE(T,x1,y1,P,Psat1,Psat2)\n",
    "print('Pressure (bars) =',sat.Psat_calc (349.75,1))"
   ]
  },
  {
   "cell_type": "code",
   "execution_count": 64,
   "metadata": {},
   "outputs": [
    {
     "name": "stdout",
     "output_type": "stream",
     "text": [
      "Activity coefficients = (0.865529911447354, 1.0096019361562323)\n"
     ]
    }
   ],
   "source": [
    "print (\"Activity coefficients =\",sat.activities())\n"
   ]
  },
  {
   "cell_type": "code",
   "execution_count": null,
   "metadata": {},
   "outputs": [],
   "source": []
  },
  {
   "cell_type": "code",
   "execution_count": null,
   "metadata": {},
   "outputs": [],
   "source": []
  }
 ],
 "metadata": {
  "kernelspec": {
   "display_name": "Python 3",
   "language": "python",
   "name": "python3"
  },
  "language_info": {
   "codemirror_mode": {
    "name": "ipython",
    "version": 3
   },
   "file_extension": ".py",
   "mimetype": "text/x-python",
   "name": "python",
   "nbconvert_exporter": "python",
   "pygments_lexer": "ipython3",
   "version": "3.7.4"
  }
 },
 "nbformat": 4,
 "nbformat_minor": 2
}
